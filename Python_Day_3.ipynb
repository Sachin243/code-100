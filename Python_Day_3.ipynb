{
 "cells": [
  {
   "cell_type": "code",
   "execution_count": 1,
   "metadata": {},
   "outputs": [
    {
     "data": {
      "text/plain": [
       "1"
      ]
     },
     "execution_count": 1,
     "metadata": {},
     "output_type": "execute_result"
    }
   ],
   "source": [
    "### Sign Function...a function called sign which takes a numerical argument and returns -1 if it's negative, \n",
    "### 1 if it's positive, and 0 if it's 0.\n",
    "def sign(x):\n",
    "    if x < 0:\n",
    "        return -1\n",
    "    elif x > 0:\n",
    "        return 1\n",
    "    elif x == 0:\n",
    "        return 0\n",
    "    else:\n",
    "        pass\n",
    "sign(5)"
   ]
  },
  {
   "cell_type": "code",
   "execution_count": 2,
   "metadata": {},
   "outputs": [],
   "source": [
    "### Negative functions...it returns True if the given number is negative and False otherwise.\n",
    "def is_negative(number):\n",
    "    if number < 0:\n",
    "        return True\n",
    "    else:\n",
    "        return False\n",
    "##### a concise alternative of upper code\n",
    "def concise_is_negative(number):\n",
    "    return number < 0\n",
    "    pass"
   ]
  },
  {
   "cell_type": "markdown",
   "metadata": {},
   "source": [
    "## Lists"
   ]
  },
  {
   "cell_type": "code",
   "execution_count": 3,
   "metadata": {},
   "outputs": [
    {
     "name": "stdout",
     "output_type": "stream",
     "text": [
      "[2, 3, 4, 5, 1, 7]\n",
      "['Sunday', 'Monday', 'Tuesday', 'Wednesday']\n",
      "[1, 'a', 2, 'b', 3, 'c']\n",
      "[11, 'Hi', Type help() for interactive help, or help(object) for help about object.]\n"
     ]
    }
   ],
   "source": [
    "# list -- integers, strings..and both\n",
    "list1 = [2,3,4,5,1,7]\n",
    "print(list1)\n",
    "list2 = ['Sunday',  'Monday', 'Tuesday', 'Wednesday']\n",
    "print(list2)\n",
    "list3 = [1,'a', 2, 'b', 3, 'c']\n",
    "print(list3)\n",
    "## integers, strings and built-in methods\n",
    "list5 = [11, 'Hi', help]\n",
    "print(list5)"
   ]
  },
  {
   "cell_type": "markdown",
   "metadata": {},
   "source": [
    "### List of lists"
   ]
  },
  {
   "cell_type": "code",
   "execution_count": 4,
   "metadata": {},
   "outputs": [
    {
     "name": "stdout",
     "output_type": "stream",
     "text": [
      "[[1, 2, 3], [4, 5, 6], [7, 8, 9]]\n",
      "<class 'list'>\n"
     ]
    }
   ],
   "source": [
    "list4 = [\n",
    "    [1,2,3],\n",
    "    [4,5,6],\n",
    "    [7,8,9]\n",
    "]\n",
    "print(list4)\n",
    "print(type(list4))"
   ]
  },
  {
   "cell_type": "markdown",
   "metadata": {},
   "source": [
    "### List Indexing \n"
   ]
  },
  {
   "cell_type": "code",
   "execution_count": 5,
   "metadata": {},
   "outputs": [
    {
     "name": "stdout",
     "output_type": "stream",
     "text": [
      "3\n",
      "Sunday\n",
      "Saturday\n"
     ]
    }
   ],
   "source": [
    "list1 = [2,3,4,5,1,7]\n",
    "print(list1[1])\n",
    "list2 = ['Sunday',  'Monday', 'Tuesday', 'Wednesday', 'Thursday', 'Friday', 'Saturday']\n",
    "# first day\n",
    "print(list2[0])\n",
    "# last day\n",
    "print(list2[-1])"
   ]
  },
  {
   "cell_type": "markdown",
   "metadata": {},
   "source": [
    "### Slicing"
   ]
  },
  {
   "cell_type": "code",
   "execution_count": 6,
   "metadata": {},
   "outputs": [
    {
     "name": "stdout",
     "output_type": "stream",
     "text": [
      "['Sunday', 'Monday', 'Tuesday']\n",
      "['Sunday', 'Monday', 'Tuesday']\n",
      "['Wednesday', 'Thursday', 'Friday', 'Saturday']\n",
      "['Wednesday', 'Thursday', 'Friday', 'Saturday']\n",
      "['Monday', 'Tuesday', 'Wednesday', 'Thursday', 'Friday']\n",
      "['Thursday', 'Friday', 'Saturday']\n"
     ]
    }
   ],
   "source": [
    "list2 = ['Sunday',  'Monday', 'Tuesday', 'Wednesday', 'Thursday', 'Friday', 'Saturday']\n",
    "# first three days\n",
    "print(list2[0:3])\n",
    "print(list2[:3])\n",
    "# last four days\n",
    "print(list2[3:7])\n",
    "print(list2[3:])\n",
    "# except first and last\n",
    "print(list2[1:-1])\n",
    "# last three \n",
    "print(list2[-3:])\n"
   ]
  },
  {
   "cell_type": "markdown",
   "metadata": {},
   "source": [
    "### Changing lists"
   ]
  },
  {
   "cell_type": "code",
   "execution_count": 7,
   "metadata": {},
   "outputs": [
    {
     "name": "stdout",
     "output_type": "stream",
     "text": [
      "['Sunday', 'Monday', 'Tuesday', 'hell', 'Thursday', 'Friday', 'Saturday']\n",
      "['Sun', 'Mon', 'Tue', 'hell', 'Thursday', 'Friday', 'Saturday']\n",
      "['Sunday', 'Monday', 'Tuesday', 'Wednesday', 'Thursday', 'Friday', 'Saturday']\n"
     ]
    }
   ],
   "source": [
    "# changes content at index 3\n",
    "list2[3] = 'hell'\n",
    "print(list2)\n",
    "# change first three days name\n",
    "list2[:3] = 'Sun', 'Mon', 'Tue'\n",
    "print(list2)\n",
    "## change back to original\n",
    "list2[:4] = 'Sunday', 'Monday', 'Tuesday', 'Wednesday'\n",
    "print(list2)"
   ]
  },
  {
   "cell_type": "markdown",
   "metadata": {},
   "source": [
    "### List functions"
   ]
  },
  {
   "cell_type": "code",
   "execution_count": 8,
   "metadata": {},
   "outputs": [
    {
     "name": "stdout",
     "output_type": "stream",
     "text": [
      "7\n",
      "['Friday', 'Monday', 'Saturday', 'Sunday', 'Thursday', 'Tuesday', 'Wednesday']\n",
      "28\n",
      "7\n",
      "1\n"
     ]
    }
   ],
   "source": [
    "## len - for length of list\n",
    "print(len(list2))\n",
    "## sorted -- arrange in ascending order\n",
    "print(sorted(list2))\n",
    "## sum - adds the elements\n",
    "list6 = [1,2,3,4,5,6,7,]\n",
    "print(sum(list6))\n",
    "## max and min\n",
    "print(max(list6))\n",
    "print(min(list6))"
   ]
  },
  {
   "cell_type": "markdown",
   "metadata": {},
   "source": [
    "#### diff. bw functions and methods -- \n",
    "Methods are called on an object and can access data within it, used with a parenthesis and . , for ex- list.append('') while functions are block of code for a definite purpose and can be called independtly . \n",
    "for ex - len(list) or sum()\n"
   ]
  },
  {
   "cell_type": "markdown",
   "metadata": {},
   "source": [
    "#### diff. bw attribute and methods\n",
    "1. A variable stored in an instance or class is called an attribute. or A value associated with an object which is referenced by name using dotted expressions. For example, if an object o has an attribute a it would be referenced as o.a\n",
    "2. A function stored in an instance or class is called a method. and method with paranthesis as o.a()"
   ]
  },
  {
   "cell_type": "markdown",
   "metadata": {},
   "source": []
  }
 ],
 "metadata": {
  "kernelspec": {
   "display_name": "Python 3",
   "language": "python",
   "name": "python3"
  },
  "language_info": {
   "codemirror_mode": {
    "name": "ipython",
    "version": 3
   },
   "file_extension": ".py",
   "mimetype": "text/x-python",
   "name": "python",
   "nbconvert_exporter": "python",
   "pygments_lexer": "ipython3",
   "version": "3.8.6"
  }
 },
 "nbformat": 4,
 "nbformat_minor": 4
}
