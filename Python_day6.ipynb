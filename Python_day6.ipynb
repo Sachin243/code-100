{
 "cells": [
  {
   "cell_type": "markdown",
   "metadata": {},
   "source": [
    "## strings"
   ]
  },
  {
   "cell_type": "code",
   "execution_count": 4,
   "metadata": {},
   "outputs": [
    {
     "name": "stdout",
     "output_type": "stream",
     "text": [
      "Hello \n",
      "world\n",
      "Hello! \n",
      "world. Welcome \n",
      "to my Python \n",
      "World.\n"
     ]
    }
   ],
   "source": [
    "### newline character...\\n\n",
    "print('Hello \\nworld')\n",
    "\n",
    "### triple quotes...for automatic new line\n",
    "print('''Hello! \n",
    "world. Welcome \n",
    "to my Python \n",
    "World.''')"
   ]
  },
  {
   "cell_type": "markdown",
   "metadata": {},
   "source": [
    "### The print() function automatically adds a newline character unless we specify a value for the keyword argument end other than the default value of '\\n'"
   ]
  },
  {
   "cell_type": "code",
   "execution_count": 6,
   "metadata": {},
   "outputs": [
    {
     "name": "stdout",
     "output_type": "stream",
     "text": [
      "Hello\n",
      "World\n",
      "Hello! World\n"
     ]
    }
   ],
   "source": [
    "print('Hello')\n",
    "print('World')\n",
    "print('Hello', end = '! ')\n",
    "print('World')"
   ]
  },
  {
   "cell_type": "code",
   "execution_count": 7,
   "metadata": {},
   "outputs": [],
   "source": [
    "### String indexing"
   ]
  },
  {
   "cell_type": "code",
   "execution_count": 9,
   "metadata": {},
   "outputs": [
    {
     "name": "stdout",
     "output_type": "stream",
     "text": [
      "H\n",
      "d\n"
     ]
    }
   ],
   "source": [
    "Welcome = 'Hello World'\n",
    "print(Welcome[0])\n",
    "print(Welcome[-1])"
   ]
  },
  {
   "cell_type": "code",
   "execution_count": 10,
   "metadata": {},
   "outputs": [],
   "source": [
    "### String slicing"
   ]
  },
  {
   "cell_type": "code",
   "execution_count": 12,
   "metadata": {},
   "outputs": [
    {
     "name": "stdout",
     "output_type": "stream",
     "text": [
      "Hel\n",
      "rld\n",
      "dlroW olleH\n"
     ]
    }
   ],
   "source": [
    "Welcome = 'Hello World'\n",
    "print(Welcome[0:3]) # upto index 3\n",
    "print(Welcome[-3:]) # from index -3\n",
    "print(Welcome[::-1]) # reverse order"
   ]
  },
  {
   "cell_type": "code",
   "execution_count": 16,
   "metadata": {},
   "outputs": [
    {
     "name": "stdout",
     "output_type": "stream",
     "text": [
      "11\n"
     ]
    }
   ],
   "source": [
    "## built-in function to calculate length of string\n",
    "print(len(Welcome))"
   ]
  },
  {
   "cell_type": "code",
   "execution_count": 22,
   "metadata": {},
   "outputs": [
    {
     "name": "stdout",
     "output_type": "stream",
     "text": [
      "H$e$l$l$o$ $W$o$r$l$d$"
     ]
    },
    {
     "data": {
      "text/plain": [
       "['H$', 'e$', 'l$', 'l$', 'o$', ' $', 'W$', 'o$', 'r$', 'l$', 'd$']"
      ]
     },
     "execution_count": 22,
     "metadata": {},
     "output_type": "execute_result"
    }
   ],
   "source": [
    "## loop over a string \n",
    "Welcome = 'Hello World'\n",
    "for char in Welcome:\n",
    "    print(char + '$', end ='')\n",
    "## using list comprehension \n",
    "[char + '$' for char in Welcome]"
   ]
  },
  {
   "cell_type": "code",
   "execution_count": 23,
   "metadata": {},
   "outputs": [],
   "source": [
    "## String Methods"
   ]
  },
  {
   "cell_type": "code",
   "execution_count": 24,
   "metadata": {},
   "outputs": [
    {
     "name": "stdout",
     "output_type": "stream",
     "text": [
      "HELLO WORLD\n"
     ]
    }
   ],
   "source": [
    "## all caps\n",
    "Welcome = 'Hello World'\n",
    "print(Welcome.upper())"
   ]
  },
  {
   "cell_type": "code",
   "execution_count": 25,
   "metadata": {},
   "outputs": [
    {
     "name": "stdout",
     "output_type": "stream",
     "text": [
      "hello world\n"
     ]
    }
   ],
   "source": [
    "## all lowercase\n",
    "Welcome = 'Hello World'\n",
    "print(Welcome.lower())"
   ]
  },
  {
   "cell_type": "code",
   "execution_count": 27,
   "metadata": {},
   "outputs": [
    {
     "name": "stdout",
     "output_type": "stream",
     "text": [
      "Hello world\n"
     ]
    }
   ],
   "source": [
    "## capitalize\n",
    "Welcome = 'hello World'\n",
    "print(Welcome.capitalize())"
   ]
  },
  {
   "cell_type": "code",
   "execution_count": 28,
   "metadata": {},
   "outputs": [
    {
     "name": "stdout",
     "output_type": "stream",
     "text": [
      "4\n"
     ]
    }
   ],
   "source": [
    "## index\n",
    "print(Welcome.index('o'))"
   ]
  },
  {
   "cell_type": "code",
   "execution_count": 32,
   "metadata": {},
   "outputs": [
    {
     "name": "stdout",
     "output_type": "stream",
     "text": [
      "True\n",
      "False\n"
     ]
    }
   ],
   "source": [
    "print(Welcome.startswith('hel'))\n",
    "print(Welcome.endswith('llo'))"
   ]
  },
  {
   "cell_type": "code",
   "execution_count": 33,
   "metadata": {},
   "outputs": [],
   "source": [
    "## string to list and vice-versa.. .split() and .join()"
   ]
  },
  {
   "cell_type": "code",
   "execution_count": 35,
   "metadata": {},
   "outputs": [
    {
     "name": "stdout",
     "output_type": "stream",
     "text": [
      "['This', 'is', 'my', 'python', 'code.']\n"
     ]
    }
   ],
   "source": [
    "##.split()...str.split() turns a string into a list of smaller strings,\n",
    "code = 'This is my python code.'\n",
    "words = code.split()\n",
    "print(words)"
   ]
  },
  {
   "cell_type": "code",
   "execution_count": 36,
   "metadata": {},
   "outputs": [
    {
     "name": "stdout",
     "output_type": "stream",
     "text": [
      "['2', '01', '2021']\n"
     ]
    }
   ],
   "source": [
    "## splits from a separator\n",
    "datestr = '2-01-2021'\n",
    "date = datestr.split('-')\n",
    "print(date)"
   ]
  },
  {
   "cell_type": "code",
   "execution_count": 38,
   "metadata": {},
   "outputs": [
    {
     "data": {
      "text/plain": [
       "'2-01-2021'"
      ]
     },
     "execution_count": 38,
     "metadata": {},
     "output_type": "execute_result"
    }
   ],
   "source": [
    "## str.join()..to join all elements of list to produce a string\n",
    "'-'.join(date)"
   ]
  },
  {
   "cell_type": "code",
   "execution_count": 21,
   "metadata": {},
   "outputs": [
    {
     "name": "stdout",
     "output_type": "stream",
     "text": [
      "['My', 'name', 'is', 'Sachin', 'Singh.']\n"
     ]
    },
    {
     "data": {
      "text/plain": [
       "'MY👏 NAME👏 IS👏 SACHIN👏 SINGH.'"
      ]
     },
     "execution_count": 21,
     "metadata": {},
     "output_type": "execute_result"
    }
   ],
   "source": [
    "## unicode character in strings\n",
    "name = 'My name is Sachin Singh.'\n",
    "words = name.split()\n",
    "print(words)\n",
    "'\\U0001f44f '.join([word.upper() for word in words])"
   ]
  },
  {
   "cell_type": "markdown",
   "metadata": {},
   "source": [
    "## .format ..strings"
   ]
  },
  {
   "cell_type": "code",
   "execution_count": 22,
   "metadata": {},
   "outputs": [
    {
     "name": "stdout",
     "output_type": "stream",
     "text": [
      "Pluto, We miss you!\n"
     ]
    }
   ],
   "source": [
    "planet = 'Pluto'\n",
    "print(planet+ ', We miss you!')"
   ]
  },
  {
   "cell_type": "code",
   "execution_count": 25,
   "metadata": {},
   "outputs": [
    {
     "name": "stdout",
     "output_type": "stream",
     "text": [
      "Pluto is at 9th position.\n"
     ]
    }
   ],
   "source": [
    "position = '9'\n",
    "print(planet + ' is at ' + str(position) +'th position.')"
   ]
  },
  {
   "cell_type": "code",
   "execution_count": 29,
   "metadata": {},
   "outputs": [
    {
     "name": "stdout",
     "output_type": "stream",
     "text": [
      "Pluto is a dwarf planet.\n",
      "Pluto is at 9 position\n"
     ]
    }
   ],
   "source": [
    "## str.format()\n",
    "print('{0} is a dwarf {1}.'.format('Pluto', 'planet'))\n",
    "print('{} is at {} position'.format('Pluto', position))"
   ]
  },
  {
   "cell_type": "code",
   "execution_count": 30,
   "metadata": {},
   "outputs": [
    {
     "name": "stdout",
     "output_type": "stream",
     "text": [
      "This is a 345,678\n"
     ]
    }
   ],
   "source": [
    "digit = 345678\n",
    "print('This is a {:,}'.format(digit))"
   ]
  },
  {
   "cell_type": "code",
   "execution_count": 33,
   "metadata": {},
   "outputs": [
    {
     "name": "stdout",
     "output_type": "stream",
     "text": [
      "Pluto weighs about 2.3e+22. It is 0.004% of earth_mass. Pluto has a population of 23846229 plutonians.\n"
     ]
    }
   ],
   "source": [
    "pluto_mass = 2.3*10**22\n",
    "earth_mass = 5.6*10**26\n",
    "population = 23846229\n",
    "print('{} weighs about {:.2}. It is {:.3%} of earth_mass. {} has a population of {} plutonians.' . format(planet, pluto_mass, pluto_mass/earth_mass, planet, population))"
   ]
  },
  {
   "cell_type": "code",
   "execution_count": 35,
   "metadata": {},
   "outputs": [
    {
     "name": "stdout",
     "output_type": "stream",
     "text": [
      "Pluto is a planet.\n",
      "No! It's a dwarf planet . \n",
      "planet\n",
      "dwarf planet\n"
     ]
    }
   ],
   "source": [
    "s = '''Pluto is a {0}.\n",
    "No! It\\'s a {1} . \n",
    "{0}\n",
    "{1}'''.format('planet', 'dwarf planet')\n",
    "print(s)"
   ]
  },
  {
   "cell_type": "markdown",
   "metadata": {},
   "source": [
    "### Python program to print emojis"
   ]
  },
  {
   "cell_type": "code",
   "execution_count": 10,
   "metadata": {},
   "outputs": [
    {
     "name": "stdout",
     "output_type": "stream",
     "text": [
      "Grinning face: 😀\n",
      "Grinning squinting face: 😆\n",
      "Rolling on the floor laughing: 🤣\n",
      "Kissing face: 😗\n",
      "Clapping hands: 👏\n"
     ]
    }
   ],
   "source": [
    "## Using unicodes\n",
    "print('Grinning face: \\U0001f600')  \n",
    "print('Grinning squinting face: \\U0001f606') \n",
    "print('Rolling on the floor laughing: \\U0001f923')\n",
    "print('Kissing face: \\U0001f617')\n",
    "print('Clapping hands: \\U0001f44f')"
   ]
  },
  {
   "cell_type": "code",
   "execution_count": 13,
   "metadata": {},
   "outputs": [
    {
     "name": "stdout",
     "output_type": "stream",
     "text": [
      "😀\n",
      "🙂\n",
      "😉\n",
      "👏\n"
     ]
    }
   ],
   "source": [
    "## Using CLDR short name\n",
    "print('\\N{grinning face}')\n",
    "print('\\N{slightly smiling face}')\n",
    "print('\\N{winking face}')\n",
    "print('\\N{clapping hands sign}')"
   ]
  },
  {
   "cell_type": "code",
   "execution_count": 1,
   "metadata": {},
   "outputs": [
    {
     "name": "stdout",
     "output_type": "stream",
     "text": [
      "Collecting emoji\n",
      "  Downloading emoji-0.6.0.tar.gz (51 kB)\n",
      "\u001b[K     |████████████████████████████████| 51 kB 354 kB/s eta 0:00:011\n",
      "\u001b[?25hBuilding wheels for collected packages: emoji\n",
      "  Building wheel for emoji (setup.py) ... \u001b[?25ldone\n",
      "\u001b[?25h  Created wheel for emoji: filename=emoji-0.6.0-py3-none-any.whl size=49713 sha256=ba1a2bf7b22399fd17f82b6f6f373106d9511a99f522adb99ebddfec260593a5\n",
      "  Stored in directory: /Users/sachinsingh/Library/Caches/pip/wheels/43/3d/82/e7baffa5e86346c6178d7750dba6e8ef063282a37fc563f8f8\n",
      "Successfully built emoji\n",
      "Installing collected packages: emoji\n",
      "Successfully installed emoji-0.6.0\n"
     ]
    }
   ],
   "source": [
    "## Using emoji module\n",
    "!pip install emoji"
   ]
  },
  {
   "cell_type": "code",
   "execution_count": 2,
   "metadata": {},
   "outputs": [],
   "source": [
    "import emoji"
   ]
  },
  {
   "cell_type": "code",
   "execution_count": 8,
   "metadata": {},
   "outputs": [
    {
     "name": "stdout",
     "output_type": "stream",
     "text": [
      "😃\n",
      "😜\n",
      "🤐\n",
      ":kissing_face:\n"
     ]
    }
   ],
   "source": [
    "print(emoji.emojize(':grinning_face_with_big_eyes:'))\n",
    "print(emoji.emojize(':winking_face_with_tongue:'))\n",
    "print(emoji.emojize(':zipper-mouth_face:'))\n",
    "\n",
    "## demojize converts unicode into string or cldr short name\n",
    "print(emoji.demojize('\\U0001f617'))"
   ]
  }
 ],
 "metadata": {
  "kernelspec": {
   "display_name": "Python 3",
   "language": "python",
   "name": "python3"
  },
  "language_info": {
   "codemirror_mode": {
    "name": "ipython",
    "version": 3
   },
   "file_extension": ".py",
   "mimetype": "text/x-python",
   "name": "python",
   "nbconvert_exporter": "python",
   "pygments_lexer": "ipython3",
   "version": "3.8.6"
  }
 },
 "nbformat": 4,
 "nbformat_minor": 4
}
