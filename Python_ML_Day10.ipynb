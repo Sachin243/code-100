{
 "cells": [
  {
   "cell_type": "markdown",
   "metadata": {},
   "source": [
    "## Pandas"
   ]
  },
  {
   "cell_type": "code",
   "execution_count": 1,
   "metadata": {},
   "outputs": [],
   "source": [
    "import pandas as pd"
   ]
  },
  {
   "cell_type": "code",
   "execution_count": 2,
   "metadata": {},
   "outputs": [],
   "source": [
    "### There are two core objects in pandas - Dataframe and Series"
   ]
  },
  {
   "cell_type": "code",
   "execution_count": 3,
   "metadata": {},
   "outputs": [],
   "source": [
    "### Dataframe - is a table which contains an array of individual entries."
   ]
  },
  {
   "cell_type": "code",
   "execution_count": 4,
   "metadata": {},
   "outputs": [
    {
     "data": {
      "text/html": [
       "<div>\n",
       "<style scoped>\n",
       "    .dataframe tbody tr th:only-of-type {\n",
       "        vertical-align: middle;\n",
       "    }\n",
       "\n",
       "    .dataframe tbody tr th {\n",
       "        vertical-align: top;\n",
       "    }\n",
       "\n",
       "    .dataframe thead th {\n",
       "        text-align: right;\n",
       "    }\n",
       "</style>\n",
       "<table border=\"1\" class=\"dataframe\">\n",
       "  <thead>\n",
       "    <tr style=\"text-align: right;\">\n",
       "      <th></th>\n",
       "      <th>Yes</th>\n",
       "      <th>No</th>\n",
       "    </tr>\n",
       "  </thead>\n",
       "  <tbody>\n",
       "    <tr>\n",
       "      <th>0</th>\n",
       "      <td>23</td>\n",
       "      <td>21</td>\n",
       "    </tr>\n",
       "    <tr>\n",
       "      <th>1</th>\n",
       "      <td>56</td>\n",
       "      <td>40</td>\n",
       "    </tr>\n",
       "  </tbody>\n",
       "</table>\n",
       "</div>"
      ],
      "text/plain": [
       "   Yes  No\n",
       "0   23  21\n",
       "1   56  40"
      ]
     },
     "execution_count": 4,
     "metadata": {},
     "output_type": "execute_result"
    }
   ],
   "source": [
    "## integer values\n",
    "pd.DataFrame({'Yes': [23, 56], 'No': [21, 40]})"
   ]
  },
  {
   "cell_type": "code",
   "execution_count": 5,
   "metadata": {},
   "outputs": [
    {
     "data": {
      "text/html": [
       "<div>\n",
       "<style scoped>\n",
       "    .dataframe tbody tr th:only-of-type {\n",
       "        vertical-align: middle;\n",
       "    }\n",
       "\n",
       "    .dataframe tbody tr th {\n",
       "        vertical-align: top;\n",
       "    }\n",
       "\n",
       "    .dataframe thead th {\n",
       "        text-align: right;\n",
       "    }\n",
       "</style>\n",
       "<table border=\"1\" class=\"dataframe\">\n",
       "  <thead>\n",
       "    <tr style=\"text-align: right;\">\n",
       "      <th></th>\n",
       "      <th>Bob</th>\n",
       "      <th>Sue</th>\n",
       "    </tr>\n",
       "  </thead>\n",
       "  <tbody>\n",
       "    <tr>\n",
       "      <th>0</th>\n",
       "      <td>I liked it.</td>\n",
       "      <td>Hell</td>\n",
       "    </tr>\n",
       "    <tr>\n",
       "      <th>1</th>\n",
       "      <td>Awesome</td>\n",
       "      <td>Cheap</td>\n",
       "    </tr>\n",
       "  </tbody>\n",
       "</table>\n",
       "</div>"
      ],
      "text/plain": [
       "           Bob    Sue\n",
       "0  I liked it.   Hell\n",
       "1      Awesome  Cheap"
      ]
     },
     "execution_count": 5,
     "metadata": {},
     "output_type": "execute_result"
    }
   ],
   "source": [
    "## Strings data\n",
    "pd.DataFrame({'Bob': ['I liked it.', 'Awesome'], 'Sue': ['Hell', 'Cheap']})"
   ]
  },
  {
   "cell_type": "code",
   "execution_count": 6,
   "metadata": {},
   "outputs": [
    {
     "data": {
      "text/html": [
       "<div>\n",
       "<style scoped>\n",
       "    .dataframe tbody tr th:only-of-type {\n",
       "        vertical-align: middle;\n",
       "    }\n",
       "\n",
       "    .dataframe tbody tr th {\n",
       "        vertical-align: top;\n",
       "    }\n",
       "\n",
       "    .dataframe thead th {\n",
       "        text-align: right;\n",
       "    }\n",
       "</style>\n",
       "<table border=\"1\" class=\"dataframe\">\n",
       "  <thead>\n",
       "    <tr style=\"text-align: right;\">\n",
       "      <th></th>\n",
       "      <th>Bob</th>\n",
       "      <th>Sue</th>\n",
       "    </tr>\n",
       "  </thead>\n",
       "  <tbody>\n",
       "    <tr>\n",
       "      <th>ProductA</th>\n",
       "      <td>I liked it.</td>\n",
       "      <td>Hell</td>\n",
       "    </tr>\n",
       "    <tr>\n",
       "      <th>ProductB</th>\n",
       "      <td>Awesome</td>\n",
       "      <td>Cheap</td>\n",
       "    </tr>\n",
       "  </tbody>\n",
       "</table>\n",
       "</div>"
      ],
      "text/plain": [
       "                  Bob    Sue\n",
       "ProductA  I liked it.   Hell\n",
       "ProductB      Awesome  Cheap"
      ]
     },
     "execution_count": 6,
     "metadata": {},
     "output_type": "execute_result"
    }
   ],
   "source": [
    "## row index\n",
    "pd.DataFrame({'Bob': ['I liked it.', 'Awesome'], 'Sue': ['Hell', 'Cheap']}, index= ['ProductA', 'ProductB'])"
   ]
  },
  {
   "cell_type": "code",
   "execution_count": 7,
   "metadata": {},
   "outputs": [],
   "source": [
    "## Series - a sequence of data values-- a list"
   ]
  },
  {
   "cell_type": "code",
   "execution_count": 9,
   "metadata": {},
   "outputs": [
    {
     "data": {
      "text/plain": [
       "0    1\n",
       "1    2\n",
       "2    3\n",
       "3    4\n",
       "4    5\n",
       "dtype: int64"
      ]
     },
     "execution_count": 9,
     "metadata": {},
     "output_type": "execute_result"
    }
   ],
   "source": [
    "pd.Series([1,2,3,4,5])"
   ]
  },
  {
   "cell_type": "code",
   "execution_count": 10,
   "metadata": {},
   "outputs": [
    {
     "data": {
      "text/plain": [
       "Sales1    30\n",
       "Sales2    45\n",
       "Sales3    50\n",
       "Name: ProductA, dtype: int64"
      ]
     },
     "execution_count": 10,
     "metadata": {},
     "output_type": "execute_result"
    }
   ],
   "source": [
    "pd.Series([30, 45, 50], index = ['Sales1', 'Sales2', 'Sales3'], name = 'ProductA')"
   ]
  },
  {
   "cell_type": "code",
   "execution_count": 12,
   "metadata": {},
   "outputs": [],
   "source": [
    "house_data = pd.read_csv('melb_data.csv')"
   ]
  },
  {
   "cell_type": "code",
   "execution_count": 14,
   "metadata": {},
   "outputs": [
    {
     "name": "stdout",
     "output_type": "stream",
     "text": [
      "       Suburb             Address  Rooms Type      Price Method SellerG  \\\n",
      "0  Abbotsford        85 Turner St      2    h  1480000.0      S  Biggin   \n",
      "1  Abbotsford     25 Bloomburg St      2    h  1035000.0      S  Biggin   \n",
      "2  Abbotsford        5 Charles St      3    h  1465000.0     SP  Biggin   \n",
      "3  Abbotsford    40 Federation La      3    h   850000.0     PI  Biggin   \n",
      "4  Abbotsford         55a Park St      4    h  1600000.0     VB  Nelson   \n",
      "5  Abbotsford      129 Charles St      2    h   941000.0      S  Jellis   \n",
      "6  Abbotsford        124 Yarra St      3    h  1876000.0      S  Nelson   \n",
      "7  Abbotsford       98 Charles St      2    h  1636000.0      S  Nelson   \n",
      "8  Abbotsford  6/241 Nicholson St      1    u   300000.0      S  Biggin   \n",
      "9  Abbotsford       10 Valiant St      2    h  1097000.0      S  Biggin   \n",
      "\n",
      "        Date  Distance  Postcode  ...  Bathroom  Car  Landsize  BuildingArea  \\\n",
      "0  3/12/2016       2.5    3067.0  ...       1.0  1.0     202.0           NaN   \n",
      "1  4/02/2016       2.5    3067.0  ...       1.0  0.0     156.0          79.0   \n",
      "2  4/03/2017       2.5    3067.0  ...       2.0  0.0     134.0         150.0   \n",
      "3  4/03/2017       2.5    3067.0  ...       2.0  1.0      94.0           NaN   \n",
      "4  4/06/2016       2.5    3067.0  ...       1.0  2.0     120.0         142.0   \n",
      "5  7/05/2016       2.5    3067.0  ...       1.0  0.0     181.0           NaN   \n",
      "6  7/05/2016       2.5    3067.0  ...       2.0  0.0     245.0         210.0   \n",
      "7  8/10/2016       2.5    3067.0  ...       1.0  2.0     256.0         107.0   \n",
      "8  8/10/2016       2.5    3067.0  ...       1.0  1.0       0.0           NaN   \n",
      "9  8/10/2016       2.5    3067.0  ...       1.0  2.0     220.0          75.0   \n",
      "\n",
      "   YearBuilt  CouncilArea Lattitude  Longtitude             Regionname  \\\n",
      "0        NaN        Yarra  -37.7996    144.9984  Northern Metropolitan   \n",
      "1     1900.0        Yarra  -37.8079    144.9934  Northern Metropolitan   \n",
      "2     1900.0        Yarra  -37.8093    144.9944  Northern Metropolitan   \n",
      "3        NaN        Yarra  -37.7969    144.9969  Northern Metropolitan   \n",
      "4     2014.0        Yarra  -37.8072    144.9941  Northern Metropolitan   \n",
      "5        NaN        Yarra  -37.8041    144.9953  Northern Metropolitan   \n",
      "6     1910.0        Yarra  -37.8024    144.9993  Northern Metropolitan   \n",
      "7     1890.0        Yarra  -37.8060    144.9954  Northern Metropolitan   \n",
      "8        NaN        Yarra  -37.8008    144.9973  Northern Metropolitan   \n",
      "9     1900.0        Yarra  -37.8010    144.9989  Northern Metropolitan   \n",
      "\n",
      "  Propertycount  \n",
      "0        4019.0  \n",
      "1        4019.0  \n",
      "2        4019.0  \n",
      "3        4019.0  \n",
      "4        4019.0  \n",
      "5        4019.0  \n",
      "6        4019.0  \n",
      "7        4019.0  \n",
      "8        4019.0  \n",
      "9        4019.0  \n",
      "\n",
      "[10 rows x 21 columns]\n"
     ]
    }
   ],
   "source": [
    "print(house_data.head(10))"
   ]
  },
  {
   "cell_type": "code",
   "execution_count": 16,
   "metadata": {},
   "outputs": [
    {
     "data": {
      "text/plain": [
       "(13580, 21)"
      ]
     },
     "execution_count": 16,
     "metadata": {},
     "output_type": "execute_result"
    }
   ],
   "source": [
    "house_data.shape"
   ]
  },
  {
   "cell_type": "code",
   "execution_count": 17,
   "metadata": {},
   "outputs": [],
   "source": [
    "house_data = pd.read_csv('melb_data.csv', index_col=0)"
   ]
  },
  {
   "cell_type": "code",
   "execution_count": 18,
   "metadata": {},
   "outputs": [
    {
     "name": "stdout",
     "output_type": "stream",
     "text": [
      "                        Address  Rooms Type      Price Method   SellerG  \\\n",
      "Suburb                                                                    \n",
      "Abbotsford         85 Turner St      2    h  1480000.0      S    Biggin   \n",
      "Abbotsford      25 Bloomburg St      2    h  1035000.0      S    Biggin   \n",
      "Abbotsford         5 Charles St      3    h  1465000.0     SP    Biggin   \n",
      "Abbotsford     40 Federation La      3    h   850000.0     PI    Biggin   \n",
      "Abbotsford          55a Park St      4    h  1600000.0     VB    Nelson   \n",
      "...                         ...    ...  ...        ...    ...       ...   \n",
      "Wheelers Hill      12 Strada Cr      4    h  1245000.0      S     Barry   \n",
      "Williamstown      77 Merrett Dr      3    h  1031000.0     SP  Williams   \n",
      "Williamstown        83 Power St      3    h  1170000.0      S     Raine   \n",
      "Williamstown       96 Verdon St      4    h  2500000.0     PI   Sweeney   \n",
      "Yarraville           6 Agnes St      4    h  1285000.0     SP   Village   \n",
      "\n",
      "                     Date  Distance  Postcode  Bedroom2  Bathroom  Car  \\\n",
      "Suburb                                                                   \n",
      "Abbotsford      3/12/2016       2.5    3067.0       2.0       1.0  1.0   \n",
      "Abbotsford      4/02/2016       2.5    3067.0       2.0       1.0  0.0   \n",
      "Abbotsford      4/03/2017       2.5    3067.0       3.0       2.0  0.0   \n",
      "Abbotsford      4/03/2017       2.5    3067.0       3.0       2.0  1.0   \n",
      "Abbotsford      4/06/2016       2.5    3067.0       3.0       1.0  2.0   \n",
      "...                   ...       ...       ...       ...       ...  ...   \n",
      "Wheelers Hill  26/08/2017      16.7    3150.0       4.0       2.0  2.0   \n",
      "Williamstown   26/08/2017       6.8    3016.0       3.0       2.0  2.0   \n",
      "Williamstown   26/08/2017       6.8    3016.0       3.0       2.0  4.0   \n",
      "Williamstown   26/08/2017       6.8    3016.0       4.0       1.0  5.0   \n",
      "Yarraville     26/08/2017       6.3    3013.0       4.0       1.0  1.0   \n",
      "\n",
      "               Landsize  BuildingArea  YearBuilt CouncilArea  Lattitude  \\\n",
      "Suburb                                                                    \n",
      "Abbotsford        202.0           NaN        NaN       Yarra  -37.79960   \n",
      "Abbotsford        156.0          79.0     1900.0       Yarra  -37.80790   \n",
      "Abbotsford        134.0         150.0     1900.0       Yarra  -37.80930   \n",
      "Abbotsford         94.0           NaN        NaN       Yarra  -37.79690   \n",
      "Abbotsford        120.0         142.0     2014.0       Yarra  -37.80720   \n",
      "...                 ...           ...        ...         ...        ...   \n",
      "Wheelers Hill     652.0           NaN     1981.0         NaN  -37.90562   \n",
      "Williamstown      333.0         133.0     1995.0         NaN  -37.85927   \n",
      "Williamstown      436.0           NaN     1997.0         NaN  -37.85274   \n",
      "Williamstown      866.0         157.0     1920.0         NaN  -37.85908   \n",
      "Yarraville        362.0         112.0     1920.0         NaN  -37.81188   \n",
      "\n",
      "               Longtitude                  Regionname  Propertycount  \n",
      "Suburb                                                                \n",
      "Abbotsford      144.99840       Northern Metropolitan         4019.0  \n",
      "Abbotsford      144.99340       Northern Metropolitan         4019.0  \n",
      "Abbotsford      144.99440       Northern Metropolitan         4019.0  \n",
      "Abbotsford      144.99690       Northern Metropolitan         4019.0  \n",
      "Abbotsford      144.99410       Northern Metropolitan         4019.0  \n",
      "...                   ...                         ...            ...  \n",
      "Wheelers Hill   145.16761  South-Eastern Metropolitan         7392.0  \n",
      "Williamstown    144.87904        Western Metropolitan         6380.0  \n",
      "Williamstown    144.88738        Western Metropolitan         6380.0  \n",
      "Williamstown    144.89299        Western Metropolitan         6380.0  \n",
      "Yarraville      144.88449        Western Metropolitan         6543.0  \n",
      "\n",
      "[13580 rows x 20 columns]\n"
     ]
    }
   ],
   "source": [
    "print(house_data)"
   ]
  },
  {
   "cell_type": "code",
   "execution_count": 31,
   "metadata": {},
   "outputs": [
    {
     "data": {
      "text/plain": [
       "Suburb\n",
       "Abbotsford         85 Turner St\n",
       "Abbotsford      25 Bloomburg St\n",
       "                     ...       \n",
       "Williamstown       96 Verdon St\n",
       "Yarraville           6 Agnes St\n",
       "Name: Address, Length: 13580, dtype: object"
      ]
     },
     "execution_count": 31,
     "metadata": {},
     "output_type": "execute_result"
    }
   ],
   "source": [
    "house_data.Address"
   ]
  },
  {
   "cell_type": "code",
   "execution_count": 19,
   "metadata": {},
   "outputs": [],
   "source": [
    "## Exercise 1"
   ]
  },
  {
   "cell_type": "code",
   "execution_count": 21,
   "metadata": {},
   "outputs": [
    {
     "name": "stdout",
     "output_type": "stream",
     "text": [
      "   Apples  Bananas\n",
      "0      30       21\n"
     ]
    }
   ],
   "source": [
    "# Your code goes here. Create a dataframe matching the above diagram and assign it to the variable fruits.\n",
    "#fruits = pd.DataFrame({'Apples': [30], 'Bananas': 21})\n",
    "fruits = pd.DataFrame([[30, 21]], columns = ['Apples', 'Bananas'])\n",
    "print(fruits)"
   ]
  },
  {
   "cell_type": "code",
   "execution_count": 22,
   "metadata": {},
   "outputs": [],
   "source": [
    "## Exercise 2"
   ]
  },
  {
   "cell_type": "code",
   "execution_count": 24,
   "metadata": {},
   "outputs": [
    {
     "name": "stdout",
     "output_type": "stream",
     "text": [
      "            Apples  Bananas\n",
      "2017 Sales      35       21\n",
      "2018 Sales      41       34\n"
     ]
    }
   ],
   "source": [
    "# Your code goes here. Create a dataframe matching the above diagram and assign it to the variable fruit_sales.\n",
    "fruit_sales = pd.DataFrame({'Apples':[35,41], 'Bananas': [21,34]}, index = ['2017 Sales', '2018 Sales'])\n",
    "print(fruit_sales)"
   ]
  },
  {
   "cell_type": "code",
   "execution_count": 25,
   "metadata": {},
   "outputs": [],
   "source": [
    "## Exercise 3"
   ]
  },
  {
   "cell_type": "code",
   "execution_count": 26,
   "metadata": {},
   "outputs": [
    {
     "name": "stdout",
     "output_type": "stream",
     "text": [
      "Flour     4 cups\n",
      "Milk       1 cup\n",
      "Eggs     2 large\n",
      "Spam       1 can\n",
      "Name: Dinner, dtype: object\n"
     ]
    }
   ],
   "source": [
    "ingredients = pd.Series(['4 cups', '1 cup', '2 large', '1 can'], index = ['Flour', 'Milk', 'Eggs', 'Spam'], name = 'Dinner')\n",
    "print(ingredients)"
   ]
  },
  {
   "cell_type": "code",
   "execution_count": 27,
   "metadata": {},
   "outputs": [],
   "source": [
    "## Exercise 4"
   ]
  },
  {
   "cell_type": "code",
   "execution_count": 28,
   "metadata": {},
   "outputs": [],
   "source": [
    "animals = pd.DataFrame({'Cows': [12, 20], 'Goats': [22, 19]}, index=['Year 1', 'Year 2'])\n",
    "## to save the animals dataframe in a csv file\n",
    "animals.to_csv('cows_and_goats.csv')"
   ]
  }
 ],
 "metadata": {
  "kernelspec": {
   "display_name": "Python 3",
   "language": "python",
   "name": "python3"
  },
  "language_info": {
   "codemirror_mode": {
    "name": "ipython",
    "version": 3
   },
   "file_extension": ".py",
   "mimetype": "text/x-python",
   "name": "python",
   "nbconvert_exporter": "python",
   "pygments_lexer": "ipython3",
   "version": "3.8.6"
  }
 },
 "nbformat": 4,
 "nbformat_minor": 4
}
