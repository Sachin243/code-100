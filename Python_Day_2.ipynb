{
 "cells": [
  {
   "cell_type": "markdown",
   "metadata": {},
   "source": [
    " ### higher order functions: functions which take one or multiple functions as an argument or return a fn. ex - map, filter, sorted,  "
   ]
  },
  {
   "cell_type": "code",
   "execution_count": 1,
   "metadata": {},
   "outputs": [
    {
     "data": {
      "text/plain": [
       "4"
      ]
     },
     "execution_count": 1,
     "metadata": {},
     "output_type": "execute_result"
    }
   ],
   "source": [
    "# normal add function which adds 1 to an argument\n",
    "def add(x):\n",
    "    return 1+x\n",
    "add(3)"
   ]
  },
  {
   "cell_type": "code",
   "execution_count": 2,
   "metadata": {},
   "outputs": [
    {
     "data": {
      "text/plain": [
       "5"
      ]
     },
     "execution_count": 2,
     "metadata": {},
     "output_type": "execute_result"
    }
   ],
   "source": [
    "# call function which takes add fn as one of argument \n",
    "def call(fn,arg):\n",
    "    return fn(arg)\n",
    "call(add, 4)"
   ]
  },
  {
   "cell_type": "code",
   "execution_count": 3,
   "metadata": {},
   "outputs": [
    {
     "data": {
      "text/plain": [
       "7"
      ]
     },
     "execution_count": 3,
     "metadata": {},
     "output_type": "execute_result"
    }
   ],
   "source": [
    "# square call fn..call on result of call function \n",
    "def square_call(fn,arg):\n",
    "    return fn(fn(arg))\n",
    "square_call(add, 5)"
   ]
  },
  {
   "cell_type": "code",
   "execution_count": 10,
   "metadata": {},
   "outputs": [
    {
     "name": "stdout",
     "output_type": "stream",
     "text": [
      "[1, 4, 9, 16, 25]\n"
     ]
    }
   ],
   "source": [
    "# map function..takes a function and sequence as arguments and return a list\n",
    "num = [1,2,3,4,5]\n",
    "def square(x):\n",
    "    return x*x\n",
    "result = map(square, num)\n",
    "print(list(result))"
   ]
  },
  {
   "cell_type": "code",
   "execution_count": 15,
   "metadata": {},
   "outputs": [
    {
     "name": "stdout",
     "output_type": "stream",
     "text": [
      "2,4,6,54,"
     ]
    }
   ],
   "source": [
    "# filter function..takes a fn and sequence as arguments and returns an iterator\n",
    "number = [2,3,4,5,6,23,54,45]\n",
    "def div_by_2(n):\n",
    "    if n % 2 == 0:\n",
    "        return True\n",
    "    else:\n",
    "        return False\n",
    "result = filter(div_by_2, number)\n",
    "for n in result:\n",
    "    print(n, end = \",\")"
   ]
  },
  {
   "cell_type": "code",
   "execution_count": 25,
   "metadata": {},
   "outputs": [
    {
     "name": "stdout",
     "output_type": "stream",
     "text": [
      "['S', 'a', 'c', 'g', 'h', 'h', 'i', 'i', 'n', 'n', 's']\n",
      "['s', 'n', 'n', 'i', 'i', 'h', 'h', 'g', 'c', 'a', 'S']\n",
      "[(5, 4), (2, 3), (4, 2), (3, 2)]\n"
     ]
    }
   ],
   "source": [
    "### sorted function(sequence, key(optional), reverse(optional))\n",
    "string = sorted('sachinSingh')\n",
    "print(string)\n",
    "# with reverse parameter\n",
    "string_rev = sorted('sachinSingh', reverse = True) \n",
    "print(string_rev)\n",
    "# with key and reverse parameter\n",
    "def sort(x):\n",
    "    return x[1]\n",
    "number = [(2,3), (4,2), (3,2), (5,4)]\n",
    "result = sorted(number, key = sort, reverse = True)\n",
    "print(result)"
   ]
  },
  {
   "cell_type": "markdown",
   "metadata": {},
   "source": [
    "### diff. bw sort() and sorted()\n",
    "- sort is a list method and sorts the list in ascending or descending order.\n",
    "- sorted can be used with any iterable(string, tuple, list, dictionary, frozenset)\n"
   ]
  },
  {
   "cell_type": "code",
   "execution_count": 32,
   "metadata": {},
   "outputs": [
    {
     "name": "stdout",
     "output_type": "stream",
     "text": [
      "[1, 2, 3, 4, 5]\n",
      "[2.1, 2.3, 3.4, 5.7]\n",
      "['.', 'Am', 'I', 'Maverick']\n"
     ]
    }
   ],
   "source": [
    "# list of integers\n",
    "numbers = [1,4,3, 2, 5]\n",
    "numbers.sort()\n",
    "print(numbers)\n",
    "# list of floating point \n",
    "decimal = [2.3, 3.4, 5.7, 2.1]\n",
    "decimal.sort()\n",
    "print(decimal)\n",
    "# list of strings\n",
    "text = ['I','Am', 'Maverick', '.']\n",
    "text.sort()\n",
    "print(text)"
   ]
  },
  {
   "cell_type": "code",
   "execution_count": 3,
   "metadata": {},
   "outputs": [
    {
     "data": {
      "text/plain": [
       "34000"
      ]
     },
     "execution_count": 3,
     "metadata": {},
     "output_type": "execute_result"
    }
   ],
   "source": [
    "## round with negative n digits argument..modifies the last n digits to 0\n",
    "round(34245, -3)"
   ]
  },
  {
   "cell_type": "code",
   "execution_count": 6,
   "metadata": {},
   "outputs": [
    {
     "name": "stdout",
     "output_type": "stream",
     "text": [
      "True\n",
      "<class 'bool'>\n",
      "False\n",
      "<class 'bool'>\n"
     ]
    }
   ],
   "source": [
    "## Booleans ---python variable type- bool, two values -- True and False\n",
    "x = True\n",
    "print(x)\n",
    "print(type(x))\n",
    "y = False\n",
    "print(y)\n",
    "print(type(y))"
   ]
  },
  {
   "cell_type": "markdown",
   "metadata": {},
   "source": [
    "### comparison operators -- a == b (a is equal to b), a!=b (a is not equal to b),\n",
    "### a > b(a greater than b), a<b (a less than b).. a>= b, (a equal to , greater than b), a<= b(a equal to..lesser than b)\n",
    "### and is evaluated before or"
   ]
  },
  {
   "cell_type": "code",
   "execution_count": 11,
   "metadata": {},
   "outputs": [
    {
     "name": "stdout",
     "output_type": "stream",
     "text": [
      "False\n",
      "True\n",
      "True\n"
     ]
    }
   ],
   "source": [
    "## and, or, not operators \n",
    "print(True and False)\n",
    "print(True or False)\n",
    "print(True and False or True)"
   ]
  },
  {
   "cell_type": "markdown",
   "metadata": {},
   "source": [
    "## Conditionals...if, elif, else.."
   ]
  },
  {
   "cell_type": "code",
   "execution_count": 16,
   "metadata": {},
   "outputs": [
    {
     "name": "stdout",
     "output_type": "stream",
     "text": [
      "4 is positive.\n",
      "0 is zero\n",
      "-5 is negative.\n"
     ]
    }
   ],
   "source": [
    "def inspect(x):\n",
    "    if x == 0:\n",
    "        print(x, \"is zero\")\n",
    "    elif x > 0:\n",
    "        print(x, 'is positive.')\n",
    "    else:\n",
    "        print(x,  'is negative.')\n",
    "inspect(4)\n",
    "inspect(0)\n",
    "inspect(-5)"
   ]
  },
  {
   "cell_type": "markdown",
   "metadata": {},
   "source": [
    "### Boolean conversion"
   ]
  },
  {
   "cell_type": "code",
   "execution_count": 17,
   "metadata": {},
   "outputs": [
    {
     "name": "stdout",
     "output_type": "stream",
     "text": [
      "True\n",
      "False\n",
      "True\n",
      "False\n"
     ]
    }
   ],
   "source": [
    "print(bool(1)) # all numbers are treated as true, except 0\n",
    "print(bool(0))\n",
    "print(bool(\"asf\")) # all strings are treated as true, except the empty string \"\"\n",
    "print(bool(\"\"))\n",
    "# Generally empty sequences (strings, lists, and other types we've yet to see like lists and tuples)\n",
    "# are \"falsey\" and the rest are \"truthy\""
   ]
  }
 ],
 "metadata": {
  "kernelspec": {
   "display_name": "Python 3",
   "language": "python",
   "name": "python3"
  },
  "language_info": {
   "codemirror_mode": {
    "name": "ipython",
    "version": 3
   },
   "file_extension": ".py",
   "mimetype": "text/x-python",
   "name": "python",
   "nbconvert_exporter": "python",
   "pygments_lexer": "ipython3",
   "version": "3.8.6"
  }
 },
 "nbformat": 4,
 "nbformat_minor": 4
}
